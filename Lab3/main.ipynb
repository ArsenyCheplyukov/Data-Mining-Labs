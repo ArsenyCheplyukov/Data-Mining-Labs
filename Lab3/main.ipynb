{
 "cells": [
  {
   "attachments": {},
   "cell_type": "markdown",
   "metadata": {},
   "source": [
    "#### **Imports**"
   ]
  },
  {
   "cell_type": "code",
   "execution_count": 181,
   "metadata": {},
   "outputs": [],
   "source": [
    "import numpy as np\n",
    "from numpy.linalg import eig\n",
    "import pandas as pd\n",
    "from sklearn.preprocessing import StandardScaler\n",
    "from scipy.stats.distributions import chi2\n",
    "from matplotlib import pyplot as plt"
   ]
  },
  {
   "attachments": {},
   "cell_type": "markdown",
   "metadata": {},
   "source": [
    "#### **Read from file**"
   ]
  },
  {
   "cell_type": "code",
   "execution_count": 182,
   "metadata": {},
   "outputs": [],
   "source": [
    "name_gen = [f\"Var{i}\" for i in range(8)]"
   ]
  },
  {
   "cell_type": "code",
   "execution_count": 183,
   "metadata": {},
   "outputs": [
    {
     "data": {
      "text/html": [
       "<div>\n",
       "<style scoped>\n",
       "    .dataframe tbody tr th:only-of-type {\n",
       "        vertical-align: middle;\n",
       "    }\n",
       "\n",
       "    .dataframe tbody tr th {\n",
       "        vertical-align: top;\n",
       "    }\n",
       "\n",
       "    .dataframe thead th {\n",
       "        text-align: right;\n",
       "    }\n",
       "</style>\n",
       "<table border=\"1\" class=\"dataframe\">\n",
       "  <thead>\n",
       "    <tr style=\"text-align: right;\">\n",
       "      <th></th>\n",
       "      <th>Var0</th>\n",
       "      <th>Var1</th>\n",
       "      <th>Var2</th>\n",
       "      <th>Var3</th>\n",
       "      <th>Var4</th>\n",
       "      <th>Var5</th>\n",
       "      <th>Var6</th>\n",
       "      <th>Var7</th>\n",
       "    </tr>\n",
       "  </thead>\n",
       "  <tbody>\n",
       "    <tr>\n",
       "      <th>0</th>\n",
       "      <td>8</td>\n",
       "      <td>6</td>\n",
       "      <td>7</td>\n",
       "      <td>5</td>\n",
       "      <td>6</td>\n",
       "      <td>5</td>\n",
       "      <td>8</td>\n",
       "      <td>7</td>\n",
       "    </tr>\n",
       "    <tr>\n",
       "      <th>1</th>\n",
       "      <td>7</td>\n",
       "      <td>6</td>\n",
       "      <td>7</td>\n",
       "      <td>5</td>\n",
       "      <td>5</td>\n",
       "      <td>5</td>\n",
       "      <td>8</td>\n",
       "      <td>7</td>\n",
       "    </tr>\n",
       "    <tr>\n",
       "      <th>2</th>\n",
       "      <td>6</td>\n",
       "      <td>3</td>\n",
       "      <td>5</td>\n",
       "      <td>4</td>\n",
       "      <td>6</td>\n",
       "      <td>4</td>\n",
       "      <td>7</td>\n",
       "      <td>6</td>\n",
       "    </tr>\n",
       "    <tr>\n",
       "      <th>3</th>\n",
       "      <td>8</td>\n",
       "      <td>6</td>\n",
       "      <td>7</td>\n",
       "      <td>7</td>\n",
       "      <td>8</td>\n",
       "      <td>7</td>\n",
       "      <td>8</td>\n",
       "      <td>8</td>\n",
       "    </tr>\n",
       "    <tr>\n",
       "      <th>4</th>\n",
       "      <td>9</td>\n",
       "      <td>9</td>\n",
       "      <td>9</td>\n",
       "      <td>8</td>\n",
       "      <td>9</td>\n",
       "      <td>9</td>\n",
       "      <td>10</td>\n",
       "      <td>9</td>\n",
       "    </tr>\n",
       "    <tr>\n",
       "      <th>...</th>\n",
       "      <td>...</td>\n",
       "      <td>...</td>\n",
       "      <td>...</td>\n",
       "      <td>...</td>\n",
       "      <td>...</td>\n",
       "      <td>...</td>\n",
       "      <td>...</td>\n",
       "      <td>...</td>\n",
       "    </tr>\n",
       "    <tr>\n",
       "      <th>95</th>\n",
       "      <td>8</td>\n",
       "      <td>7</td>\n",
       "      <td>8</td>\n",
       "      <td>6</td>\n",
       "      <td>7</td>\n",
       "      <td>6</td>\n",
       "      <td>8</td>\n",
       "      <td>8</td>\n",
       "    </tr>\n",
       "    <tr>\n",
       "      <th>96</th>\n",
       "      <td>10</td>\n",
       "      <td>9</td>\n",
       "      <td>9</td>\n",
       "      <td>9</td>\n",
       "      <td>10</td>\n",
       "      <td>9</td>\n",
       "      <td>10</td>\n",
       "      <td>9</td>\n",
       "    </tr>\n",
       "    <tr>\n",
       "      <th>97</th>\n",
       "      <td>8</td>\n",
       "      <td>6</td>\n",
       "      <td>7</td>\n",
       "      <td>6</td>\n",
       "      <td>8</td>\n",
       "      <td>7</td>\n",
       "      <td>8</td>\n",
       "      <td>8</td>\n",
       "    </tr>\n",
       "    <tr>\n",
       "      <th>98</th>\n",
       "      <td>9</td>\n",
       "      <td>8</td>\n",
       "      <td>7</td>\n",
       "      <td>8</td>\n",
       "      <td>10</td>\n",
       "      <td>8</td>\n",
       "      <td>9</td>\n",
       "      <td>9</td>\n",
       "    </tr>\n",
       "    <tr>\n",
       "      <th>99</th>\n",
       "      <td>7</td>\n",
       "      <td>6</td>\n",
       "      <td>7</td>\n",
       "      <td>4</td>\n",
       "      <td>4</td>\n",
       "      <td>4</td>\n",
       "      <td>7</td>\n",
       "      <td>7</td>\n",
       "    </tr>\n",
       "  </tbody>\n",
       "</table>\n",
       "<p>100 rows × 8 columns</p>\n",
       "</div>"
      ],
      "text/plain": [
       "    Var0  Var1  Var2  Var3  Var4  Var5  Var6  Var7\n",
       "0      8     6     7     5     6     5     8     7\n",
       "1      7     6     7     5     5     5     8     7\n",
       "2      6     3     5     4     6     4     7     6\n",
       "3      8     6     7     7     8     7     8     8\n",
       "4      9     9     9     8     9     9    10     9\n",
       "..   ...   ...   ...   ...   ...   ...   ...   ...\n",
       "95     8     7     8     6     7     6     8     8\n",
       "96    10     9     9     9    10     9    10     9\n",
       "97     8     6     7     6     8     7     8     8\n",
       "98     9     8     7     8    10     8     9     9\n",
       "99     7     6     7     4     4     4     7     7\n",
       "\n",
       "[100 rows x 8 columns]"
      ]
     },
     "execution_count": 183,
     "metadata": {},
     "output_type": "execute_result"
    }
   ],
   "source": [
    "data = pd.read_csv(\"data10.txt\", sep=\"\\t\", header=None)\n",
    "data.columns = name_gen\n",
    "data"
   ]
  },
  {
   "attachments": {},
   "cell_type": "markdown",
   "metadata": {},
   "source": [
    "#### **Normalize data**"
   ]
  },
  {
   "cell_type": "code",
   "execution_count": 184,
   "metadata": {},
   "outputs": [
    {
     "data": {
      "text/html": [
       "<div>\n",
       "<style scoped>\n",
       "    .dataframe tbody tr th:only-of-type {\n",
       "        vertical-align: middle;\n",
       "    }\n",
       "\n",
       "    .dataframe tbody tr th {\n",
       "        vertical-align: top;\n",
       "    }\n",
       "\n",
       "    .dataframe thead th {\n",
       "        text-align: right;\n",
       "    }\n",
       "</style>\n",
       "<table border=\"1\" class=\"dataframe\">\n",
       "  <thead>\n",
       "    <tr style=\"text-align: right;\">\n",
       "      <th></th>\n",
       "      <th>Var0</th>\n",
       "      <th>Var1</th>\n",
       "      <th>Var2</th>\n",
       "      <th>Var3</th>\n",
       "      <th>Var4</th>\n",
       "      <th>Var5</th>\n",
       "      <th>Var6</th>\n",
       "      <th>Var7</th>\n",
       "    </tr>\n",
       "  </thead>\n",
       "  <tbody>\n",
       "    <tr>\n",
       "      <th>0</th>\n",
       "      <td>0.322070</td>\n",
       "      <td>0.050415</td>\n",
       "      <td>0.170862</td>\n",
       "      <td>-0.390826</td>\n",
       "      <td>-0.575930</td>\n",
       "      <td>-0.500856</td>\n",
       "      <td>-0.007647</td>\n",
       "      <td>-0.316551</td>\n",
       "    </tr>\n",
       "    <tr>\n",
       "      <th>1</th>\n",
       "      <td>-0.409907</td>\n",
       "      <td>0.050415</td>\n",
       "      <td>0.170862</td>\n",
       "      <td>-0.390826</td>\n",
       "      <td>-1.104306</td>\n",
       "      <td>-0.500856</td>\n",
       "      <td>-0.007647</td>\n",
       "      <td>-0.316551</td>\n",
       "    </tr>\n",
       "    <tr>\n",
       "      <th>2</th>\n",
       "      <td>-1.141885</td>\n",
       "      <td>-1.209956</td>\n",
       "      <td>-1.094783</td>\n",
       "      <td>-0.885542</td>\n",
       "      <td>-0.575930</td>\n",
       "      <td>-0.987125</td>\n",
       "      <td>-0.772389</td>\n",
       "      <td>-1.128219</td>\n",
       "    </tr>\n",
       "    <tr>\n",
       "      <th>3</th>\n",
       "      <td>0.322070</td>\n",
       "      <td>0.050415</td>\n",
       "      <td>0.170862</td>\n",
       "      <td>0.598607</td>\n",
       "      <td>0.480822</td>\n",
       "      <td>0.471680</td>\n",
       "      <td>-0.007647</td>\n",
       "      <td>0.495117</td>\n",
       "    </tr>\n",
       "    <tr>\n",
       "      <th>4</th>\n",
       "      <td>1.054047</td>\n",
       "      <td>1.310786</td>\n",
       "      <td>1.436507</td>\n",
       "      <td>1.093323</td>\n",
       "      <td>1.009199</td>\n",
       "      <td>1.444217</td>\n",
       "      <td>1.521836</td>\n",
       "      <td>1.306785</td>\n",
       "    </tr>\n",
       "    <tr>\n",
       "      <th>...</th>\n",
       "      <td>...</td>\n",
       "      <td>...</td>\n",
       "      <td>...</td>\n",
       "      <td>...</td>\n",
       "      <td>...</td>\n",
       "      <td>...</td>\n",
       "      <td>...</td>\n",
       "      <td>...</td>\n",
       "    </tr>\n",
       "    <tr>\n",
       "      <th>95</th>\n",
       "      <td>0.322070</td>\n",
       "      <td>0.470538</td>\n",
       "      <td>0.803685</td>\n",
       "      <td>0.103890</td>\n",
       "      <td>-0.047554</td>\n",
       "      <td>-0.014588</td>\n",
       "      <td>-0.007647</td>\n",
       "      <td>0.495117</td>\n",
       "    </tr>\n",
       "    <tr>\n",
       "      <th>96</th>\n",
       "      <td>1.786025</td>\n",
       "      <td>1.310786</td>\n",
       "      <td>1.436507</td>\n",
       "      <td>1.588039</td>\n",
       "      <td>1.537575</td>\n",
       "      <td>1.444217</td>\n",
       "      <td>1.521836</td>\n",
       "      <td>1.306785</td>\n",
       "    </tr>\n",
       "    <tr>\n",
       "      <th>97</th>\n",
       "      <td>0.322070</td>\n",
       "      <td>0.050415</td>\n",
       "      <td>0.170862</td>\n",
       "      <td>0.103890</td>\n",
       "      <td>0.480822</td>\n",
       "      <td>0.471680</td>\n",
       "      <td>-0.007647</td>\n",
       "      <td>0.495117</td>\n",
       "    </tr>\n",
       "    <tr>\n",
       "      <th>98</th>\n",
       "      <td>1.054047</td>\n",
       "      <td>0.890662</td>\n",
       "      <td>0.170862</td>\n",
       "      <td>1.093323</td>\n",
       "      <td>1.537575</td>\n",
       "      <td>0.957949</td>\n",
       "      <td>0.757094</td>\n",
       "      <td>1.306785</td>\n",
       "    </tr>\n",
       "    <tr>\n",
       "      <th>99</th>\n",
       "      <td>-0.409907</td>\n",
       "      <td>0.050415</td>\n",
       "      <td>0.170862</td>\n",
       "      <td>-0.885542</td>\n",
       "      <td>-1.632683</td>\n",
       "      <td>-0.987125</td>\n",
       "      <td>-0.772389</td>\n",
       "      <td>-0.316551</td>\n",
       "    </tr>\n",
       "  </tbody>\n",
       "</table>\n",
       "<p>100 rows × 8 columns</p>\n",
       "</div>"
      ],
      "text/plain": [
       "        Var0      Var1      Var2      Var3      Var4      Var5      Var6  \\\n",
       "0   0.322070  0.050415  0.170862 -0.390826 -0.575930 -0.500856 -0.007647   \n",
       "1  -0.409907  0.050415  0.170862 -0.390826 -1.104306 -0.500856 -0.007647   \n",
       "2  -1.141885 -1.209956 -1.094783 -0.885542 -0.575930 -0.987125 -0.772389   \n",
       "3   0.322070  0.050415  0.170862  0.598607  0.480822  0.471680 -0.007647   \n",
       "4   1.054047  1.310786  1.436507  1.093323  1.009199  1.444217  1.521836   \n",
       "..       ...       ...       ...       ...       ...       ...       ...   \n",
       "95  0.322070  0.470538  0.803685  0.103890 -0.047554 -0.014588 -0.007647   \n",
       "96  1.786025  1.310786  1.436507  1.588039  1.537575  1.444217  1.521836   \n",
       "97  0.322070  0.050415  0.170862  0.103890  0.480822  0.471680 -0.007647   \n",
       "98  1.054047  0.890662  0.170862  1.093323  1.537575  0.957949  0.757094   \n",
       "99 -0.409907  0.050415  0.170862 -0.885542 -1.632683 -0.987125 -0.772389   \n",
       "\n",
       "        Var7  \n",
       "0  -0.316551  \n",
       "1  -0.316551  \n",
       "2  -1.128219  \n",
       "3   0.495117  \n",
       "4   1.306785  \n",
       "..       ...  \n",
       "95  0.495117  \n",
       "96  1.306785  \n",
       "97  0.495117  \n",
       "98  1.306785  \n",
       "99 -0.316551  \n",
       "\n",
       "[100 rows x 8 columns]"
      ]
     },
     "execution_count": 184,
     "metadata": {},
     "output_type": "execute_result"
    }
   ],
   "source": [
    "scaler = StandardScaler().fit(data)\n",
    "x = pd.DataFrame(scaler.transform(data), columns=name_gen)\n",
    "x"
   ]
  },
  {
   "attachments": {},
   "cell_type": "markdown",
   "metadata": {},
   "source": [
    "#### **Check how data is normalized (normalization by columns)**"
   ]
  },
  {
   "cell_type": "code",
   "execution_count": 185,
   "metadata": {},
   "outputs": [
    {
     "data": {
      "text/plain": [
       "'Mean value of first variable is: 0.000000 (other are the same); std is: 1.005'"
      ]
     },
     "execution_count": 185,
     "metadata": {},
     "output_type": "execute_result"
    }
   ],
   "source": [
    "f\"Mean value of first variable is: {x['Var1'].mean():.6f} (other are the same); std is: {x['Var2'].std():.3f}\""
   ]
  },
  {
   "attachments": {},
   "cell_type": "markdown",
   "metadata": {},
   "source": [
    "#### **Find correlation matrix**"
   ]
  },
  {
   "cell_type": "code",
   "execution_count": 186,
   "metadata": {},
   "outputs": [],
   "source": [
    "#x.transpose().dot(x)/(x.size[0] - 1)"
   ]
  },
  {
   "cell_type": "code",
   "execution_count": 187,
   "metadata": {},
   "outputs": [
    {
     "data": {
      "text/html": [
       "<div>\n",
       "<style scoped>\n",
       "    .dataframe tbody tr th:only-of-type {\n",
       "        vertical-align: middle;\n",
       "    }\n",
       "\n",
       "    .dataframe tbody tr th {\n",
       "        vertical-align: top;\n",
       "    }\n",
       "\n",
       "    .dataframe thead th {\n",
       "        text-align: right;\n",
       "    }\n",
       "</style>\n",
       "<table border=\"1\" class=\"dataframe\">\n",
       "  <thead>\n",
       "    <tr style=\"text-align: right;\">\n",
       "      <th></th>\n",
       "      <th>Var0</th>\n",
       "      <th>Var1</th>\n",
       "      <th>Var2</th>\n",
       "      <th>Var3</th>\n",
       "      <th>Var4</th>\n",
       "      <th>Var5</th>\n",
       "      <th>Var6</th>\n",
       "      <th>Var7</th>\n",
       "    </tr>\n",
       "  </thead>\n",
       "  <tbody>\n",
       "    <tr>\n",
       "      <th>Var0</th>\n",
       "      <td>1.000000</td>\n",
       "      <td>0.952454</td>\n",
       "      <td>0.885291</td>\n",
       "      <td>0.929782</td>\n",
       "      <td>0.688277</td>\n",
       "      <td>0.912339</td>\n",
       "      <td>0.931687</td>\n",
       "      <td>0.963429</td>\n",
       "    </tr>\n",
       "    <tr>\n",
       "      <th>Var1</th>\n",
       "      <td>0.952454</td>\n",
       "      <td>1.000000</td>\n",
       "      <td>0.953813</td>\n",
       "      <td>0.861463</td>\n",
       "      <td>0.546257</td>\n",
       "      <td>0.848551</td>\n",
       "      <td>0.951392</td>\n",
       "      <td>0.940071</td>\n",
       "    </tr>\n",
       "    <tr>\n",
       "      <th>Var2</th>\n",
       "      <td>0.885291</td>\n",
       "      <td>0.953813</td>\n",
       "      <td>1.000000</td>\n",
       "      <td>0.739873</td>\n",
       "      <td>0.372587</td>\n",
       "      <td>0.731793</td>\n",
       "      <td>0.886927</td>\n",
       "      <td>0.875914</td>\n",
       "    </tr>\n",
       "    <tr>\n",
       "      <th>Var3</th>\n",
       "      <td>0.929782</td>\n",
       "      <td>0.861463</td>\n",
       "      <td>0.739873</td>\n",
       "      <td>1.000000</td>\n",
       "      <td>0.864934</td>\n",
       "      <td>0.978209</td>\n",
       "      <td>0.923920</td>\n",
       "      <td>0.928333</td>\n",
       "    </tr>\n",
       "    <tr>\n",
       "      <th>Var4</th>\n",
       "      <td>0.688277</td>\n",
       "      <td>0.546257</td>\n",
       "      <td>0.372587</td>\n",
       "      <td>0.864934</td>\n",
       "      <td>1.000000</td>\n",
       "      <td>0.880585</td>\n",
       "      <td>0.682517</td>\n",
       "      <td>0.709730</td>\n",
       "    </tr>\n",
       "    <tr>\n",
       "      <th>Var5</th>\n",
       "      <td>0.912339</td>\n",
       "      <td>0.848551</td>\n",
       "      <td>0.731793</td>\n",
       "      <td>0.978209</td>\n",
       "      <td>0.880585</td>\n",
       "      <td>1.000000</td>\n",
       "      <td>0.922125</td>\n",
       "      <td>0.922900</td>\n",
       "    </tr>\n",
       "    <tr>\n",
       "      <th>Var6</th>\n",
       "      <td>0.931687</td>\n",
       "      <td>0.951392</td>\n",
       "      <td>0.886927</td>\n",
       "      <td>0.923920</td>\n",
       "      <td>0.682517</td>\n",
       "      <td>0.922125</td>\n",
       "      <td>1.000000</td>\n",
       "      <td>0.928653</td>\n",
       "    </tr>\n",
       "    <tr>\n",
       "      <th>Var7</th>\n",
       "      <td>0.963429</td>\n",
       "      <td>0.940071</td>\n",
       "      <td>0.875914</td>\n",
       "      <td>0.928333</td>\n",
       "      <td>0.709730</td>\n",
       "      <td>0.922900</td>\n",
       "      <td>0.928653</td>\n",
       "      <td>1.000000</td>\n",
       "    </tr>\n",
       "  </tbody>\n",
       "</table>\n",
       "</div>"
      ],
      "text/plain": [
       "          Var0      Var1      Var2      Var3      Var4      Var5      Var6  \\\n",
       "Var0  1.000000  0.952454  0.885291  0.929782  0.688277  0.912339  0.931687   \n",
       "Var1  0.952454  1.000000  0.953813  0.861463  0.546257  0.848551  0.951392   \n",
       "Var2  0.885291  0.953813  1.000000  0.739873  0.372587  0.731793  0.886927   \n",
       "Var3  0.929782  0.861463  0.739873  1.000000  0.864934  0.978209  0.923920   \n",
       "Var4  0.688277  0.546257  0.372587  0.864934  1.000000  0.880585  0.682517   \n",
       "Var5  0.912339  0.848551  0.731793  0.978209  0.880585  1.000000  0.922125   \n",
       "Var6  0.931687  0.951392  0.886927  0.923920  0.682517  0.922125  1.000000   \n",
       "Var7  0.963429  0.940071  0.875914  0.928333  0.709730  0.922900  0.928653   \n",
       "\n",
       "          Var7  \n",
       "Var0  0.963429  \n",
       "Var1  0.940071  \n",
       "Var2  0.875914  \n",
       "Var3  0.928333  \n",
       "Var4  0.709730  \n",
       "Var5  0.922900  \n",
       "Var6  0.928653  \n",
       "Var7  1.000000  "
      ]
     },
     "execution_count": 187,
     "metadata": {},
     "output_type": "execute_result"
    }
   ],
   "source": [
    "corr_x = x.corr()\n",
    "corr_x"
   ]
  },
  {
   "attachments": {},
   "cell_type": "markdown",
   "metadata": {},
   "source": [
    "#### **Sum squares of upper triangle elements and check if them vary much from singular matrix**"
   ]
  },
  {
   "cell_type": "code",
   "execution_count": 188,
   "metadata": {},
   "outputs": [
    {
     "data": {
      "text/plain": [
       "True"
      ]
     },
     "execution_count": 188,
     "metadata": {},
     "output_type": "execute_result"
    }
   ],
   "source": [
    "size_of_corr = corr_x.shape[0]\n",
    "#upper_triangle_filter = [[1 if j > i else 0 for j in range(size_of_corr)] for i in range(size_of_corr)]\n",
    "np.sum(np.triu(corr_x)**2)-size_of_corr > chi2.ppf(0.995, df=2)"
   ]
  },
  {
   "attachments": {},
   "cell_type": "markdown",
   "metadata": {},
   "source": [
    "#### **Find eigenvectors and eigenvalues**"
   ]
  },
  {
   "cell_type": "code",
   "execution_count": 189,
   "metadata": {},
   "outputs": [
    {
     "name": "stdout",
     "output_type": "stream",
     "text": [
      "6.96774100118782\n",
      "0.8275361847282149\n",
      "0.08474187024102832\n",
      "0.04165679125383401\n",
      "0.028197048683093077\n",
      "0.013115495836887018\n",
      "0.017070339303568806\n",
      "0.019941268765558694\n",
      "The vectors are: [[-0.37007083  0.0975429   0.46280932 -0.59173631 -0.28843881  0.42734307\n",
      "   0.15285713  0.00207164]\n",
      " [-0.36020589  0.31234574 -0.05833534 -0.19937478  0.20731512 -0.48563787\n",
      "   0.09133768 -0.66511071]\n",
      " [-0.32988339  0.52011933 -0.04174292  0.36218443 -0.59305752 -0.18040007\n",
      "  -0.22002035  0.23465388]\n",
      " [-0.36696781 -0.22944601 -0.03463787 -0.36182359  0.26859695 -0.39711021\n",
      "  -0.42780145  0.51741486]\n",
      " [-0.28946664 -0.70019736  0.0251935   0.20374171 -0.38600807  0.00464298\n",
      "  -0.27753616 -0.39716145]\n",
      " [-0.36525268 -0.25603279 -0.16295988  0.15772819 -0.04700398 -0.18213378\n",
      "   0.79988692  0.27276805]\n",
      " [-0.36819232  0.09907451 -0.70387252 -0.02374906  0.18300768  0.55497294\n",
      "  -0.12095879 -0.05000304]\n",
      " [-0.37019566  0.0641174   0.50678902  0.53014252  0.51503256  0.22383881\n",
      "  -0.07343468  0.01424541]]\n"
     ]
    }
   ],
   "source": [
    "value, vector = eig(corr_x)\n",
    "for i in value:\n",
    "    print(i)\n",
    "print(f\"The vectors are: {vector}\")"
   ]
  },
  {
   "attachments": {},
   "cell_type": "markdown",
   "metadata": {},
   "source": [
    "#### **Project data by eigenvectors**"
   ]
  },
  {
   "cell_type": "code",
   "execution_count": 190,
   "metadata": {},
   "outputs": [
    {
     "data": {
      "text/html": [
       "<div>\n",
       "<style scoped>\n",
       "    .dataframe tbody tr th:only-of-type {\n",
       "        vertical-align: middle;\n",
       "    }\n",
       "\n",
       "    .dataframe tbody tr th {\n",
       "        vertical-align: top;\n",
       "    }\n",
       "\n",
       "    .dataframe thead th {\n",
       "        text-align: right;\n",
       "    }\n",
       "</style>\n",
       "<table border=\"1\" class=\"dataframe\">\n",
       "  <thead>\n",
       "    <tr style=\"text-align: right;\">\n",
       "      <th></th>\n",
       "      <th>0</th>\n",
       "      <th>1</th>\n",
       "      <th>2</th>\n",
       "      <th>3</th>\n",
       "      <th>4</th>\n",
       "      <th>5</th>\n",
       "      <th>6</th>\n",
       "      <th>7</th>\n",
       "    </tr>\n",
       "  </thead>\n",
       "  <tbody>\n",
       "    <tr>\n",
       "      <th>0</th>\n",
       "      <td>0.419361</td>\n",
       "      <td>0.736151</td>\n",
       "      <td>0.064589</td>\n",
       "      <td>-0.361314</td>\n",
       "      <td>-0.207329</td>\n",
       "      <td>0.250977</td>\n",
       "      <td>-0.033178</td>\n",
       "      <td>-0.106997</td>\n",
       "    </tr>\n",
       "    <tr>\n",
       "      <th>1</th>\n",
       "      <td>0.843191</td>\n",
       "      <td>1.034719</td>\n",
       "      <td>-0.287488</td>\n",
       "      <td>-0.035829</td>\n",
       "      <td>0.207759</td>\n",
       "      <td>-0.064282</td>\n",
       "      <td>0.001577</td>\n",
       "      <td>0.101337</td>\n",
       "    </tr>\n",
       "    <tr>\n",
       "      <th>2</th>\n",
       "      <td>2.773839</td>\n",
       "      <td>-0.348403</td>\n",
       "      <td>-0.263272</td>\n",
       "      <td>-0.011986</td>\n",
       "      <td>0.036227</td>\n",
       "      <td>0.144701</td>\n",
       "      <td>-0.118818</td>\n",
       "      <td>0.069332</td>\n",
       "    </tr>\n",
       "    <tr>\n",
       "      <th>3</th>\n",
       "      <td>-0.905322</td>\n",
       "      <td>-0.427765</td>\n",
       "      <td>0.309801</td>\n",
       "      <td>0.079687</td>\n",
       "      <td>0.022837</td>\n",
       "      <td>-0.132479</td>\n",
       "      <td>-0.031431</td>\n",
       "      <td>0.262088</td>\n",
       "    </tr>\n",
       "    <tr>\n",
       "      <th>4</th>\n",
       "      <td>-3.601047</td>\n",
       "      <td>0.166688</td>\n",
       "      <td>-0.305314</td>\n",
       "      <td>0.329685</td>\n",
       "      <td>-0.096449</td>\n",
       "      <td>-0.000711</td>\n",
       "      <td>0.092135</td>\n",
       "      <td>-0.031210</td>\n",
       "    </tr>\n",
       "    <tr>\n",
       "      <th>...</th>\n",
       "      <td>...</td>\n",
       "      <td>...</td>\n",
       "      <td>...</td>\n",
       "      <td>...</td>\n",
       "      <td>...</td>\n",
       "      <td>...</td>\n",
       "      <td>...</td>\n",
       "      <td>...</td>\n",
       "    </tr>\n",
       "    <tr>\n",
       "      <th>95</th>\n",
       "      <td>-0.753307</td>\n",
       "      <td>0.640581</td>\n",
       "      <td>0.341943</td>\n",
       "      <td>0.219773</td>\n",
       "      <td>-0.171430</td>\n",
       "      <td>-0.168099</td>\n",
       "      <td>-0.162968</td>\n",
       "      <td>-0.047608</td>\n",
       "    </tr>\n",
       "    <tr>\n",
       "      <th>96</th>\n",
       "      <td>-4.206423</td>\n",
       "      <td>-0.245392</td>\n",
       "      <td>0.029627</td>\n",
       "      <td>-0.174800</td>\n",
       "      <td>-0.378658</td>\n",
       "      <td>0.118091</td>\n",
       "      <td>-0.154261</td>\n",
       "      <td>0.016430</td>\n",
       "    </tr>\n",
       "    <tr>\n",
       "      <th>97</th>\n",
       "      <td>-0.723777</td>\n",
       "      <td>-0.314254</td>\n",
       "      <td>0.326937</td>\n",
       "      <td>0.258687</td>\n",
       "      <td>-0.110042</td>\n",
       "      <td>0.063977</td>\n",
       "      <td>0.180209</td>\n",
       "      <td>0.006114</td>\n",
       "    </tr>\n",
       "    <tr>\n",
       "      <th>98</th>\n",
       "      <td>-2.725965</td>\n",
       "      <td>-0.944056</td>\n",
       "      <td>0.402860</td>\n",
       "      <td>0.004166</td>\n",
       "      <td>0.245999</td>\n",
       "      <td>0.098248</td>\n",
       "      <td>-0.110871</td>\n",
       "      <td>-0.353019</td>\n",
       "    </tr>\n",
       "    <tr>\n",
       "      <th>99</th>\n",
       "      <td>1.636866</td>\n",
       "      <td>1.566932</td>\n",
       "      <td>0.333859</td>\n",
       "      <td>-0.023017</td>\n",
       "      <td>0.161741</td>\n",
       "      <td>-0.206123</td>\n",
       "      <td>0.063404</td>\n",
       "      <td>-0.039185</td>\n",
       "    </tr>\n",
       "  </tbody>\n",
       "</table>\n",
       "<p>100 rows × 8 columns</p>\n",
       "</div>"
      ],
      "text/plain": [
       "           0         1         2         3         4         5         6  \\\n",
       "0   0.419361  0.736151  0.064589 -0.361314 -0.207329  0.250977 -0.033178   \n",
       "1   0.843191  1.034719 -0.287488 -0.035829  0.207759 -0.064282  0.001577   \n",
       "2   2.773839 -0.348403 -0.263272 -0.011986  0.036227  0.144701 -0.118818   \n",
       "3  -0.905322 -0.427765  0.309801  0.079687  0.022837 -0.132479 -0.031431   \n",
       "4  -3.601047  0.166688 -0.305314  0.329685 -0.096449 -0.000711  0.092135   \n",
       "..       ...       ...       ...       ...       ...       ...       ...   \n",
       "95 -0.753307  0.640581  0.341943  0.219773 -0.171430 -0.168099 -0.162968   \n",
       "96 -4.206423 -0.245392  0.029627 -0.174800 -0.378658  0.118091 -0.154261   \n",
       "97 -0.723777 -0.314254  0.326937  0.258687 -0.110042  0.063977  0.180209   \n",
       "98 -2.725965 -0.944056  0.402860  0.004166  0.245999  0.098248 -0.110871   \n",
       "99  1.636866  1.566932  0.333859 -0.023017  0.161741 -0.206123  0.063404   \n",
       "\n",
       "           7  \n",
       "0  -0.106997  \n",
       "1   0.101337  \n",
       "2   0.069332  \n",
       "3   0.262088  \n",
       "4  -0.031210  \n",
       "..       ...  \n",
       "95 -0.047608  \n",
       "96  0.016430  \n",
       "97  0.006114  \n",
       "98 -0.353019  \n",
       "99 -0.039185  \n",
       "\n",
       "[100 rows x 8 columns]"
      ]
     },
     "execution_count": 190,
     "metadata": {},
     "output_type": "execute_result"
    }
   ],
   "source": [
    "corr_projection = x.dot(vector)\n",
    "corr_projection"
   ]
  },
  {
   "attachments": {},
   "cell_type": "markdown",
   "metadata": {},
   "source": [
    "## **Check projection**"
   ]
  },
  {
   "attachments": {},
   "cell_type": "markdown",
   "metadata": {},
   "source": [
    "#### **Check sum of variety**"
   ]
  },
  {
   "cell_type": "code",
   "execution_count": 191,
   "metadata": {},
   "outputs": [],
   "source": [
    "#np.var(corr_projection)"
   ]
  },
  {
   "cell_type": "code",
   "execution_count": 192,
   "metadata": {},
   "outputs": [
    {
     "data": {
      "text/plain": [
       "True"
      ]
     },
     "execution_count": 192,
     "metadata": {},
     "output_type": "execute_result"
    }
   ],
   "source": [
    "np.round(np.sum(np.var(corr_projection)), 8) == np.round(np.sum(np.var(x)), 8)"
   ]
  },
  {
   "attachments": {},
   "cell_type": "markdown",
   "metadata": {},
   "source": [
    "#### **Covariational matrix for projection**"
   ]
  },
  {
   "cell_type": "code",
   "execution_count": 193,
   "metadata": {},
   "outputs": [
    {
     "data": {
      "text/html": [
       "<div>\n",
       "<style scoped>\n",
       "    .dataframe tbody tr th:only-of-type {\n",
       "        vertical-align: middle;\n",
       "    }\n",
       "\n",
       "    .dataframe tbody tr th {\n",
       "        vertical-align: top;\n",
       "    }\n",
       "\n",
       "    .dataframe thead th {\n",
       "        text-align: right;\n",
       "    }\n",
       "</style>\n",
       "<table border=\"1\" class=\"dataframe\">\n",
       "  <thead>\n",
       "    <tr style=\"text-align: right;\">\n",
       "      <th></th>\n",
       "      <th>0</th>\n",
       "      <th>1</th>\n",
       "      <th>2</th>\n",
       "      <th>3</th>\n",
       "      <th>4</th>\n",
       "      <th>5</th>\n",
       "      <th>6</th>\n",
       "      <th>7</th>\n",
       "    </tr>\n",
       "  </thead>\n",
       "  <tbody>\n",
       "    <tr>\n",
       "      <th>0</th>\n",
       "      <td>1.0</td>\n",
       "      <td>0.0</td>\n",
       "      <td>-0.0</td>\n",
       "      <td>0.0</td>\n",
       "      <td>-0.0</td>\n",
       "      <td>-0.0</td>\n",
       "      <td>-0.0</td>\n",
       "      <td>-0.0</td>\n",
       "    </tr>\n",
       "    <tr>\n",
       "      <th>1</th>\n",
       "      <td>0.0</td>\n",
       "      <td>1.0</td>\n",
       "      <td>-0.0</td>\n",
       "      <td>0.0</td>\n",
       "      <td>-0.0</td>\n",
       "      <td>-0.0</td>\n",
       "      <td>0.0</td>\n",
       "      <td>0.0</td>\n",
       "    </tr>\n",
       "    <tr>\n",
       "      <th>2</th>\n",
       "      <td>-0.0</td>\n",
       "      <td>-0.0</td>\n",
       "      <td>1.0</td>\n",
       "      <td>-0.0</td>\n",
       "      <td>0.0</td>\n",
       "      <td>0.0</td>\n",
       "      <td>0.0</td>\n",
       "      <td>0.0</td>\n",
       "    </tr>\n",
       "    <tr>\n",
       "      <th>3</th>\n",
       "      <td>0.0</td>\n",
       "      <td>0.0</td>\n",
       "      <td>-0.0</td>\n",
       "      <td>1.0</td>\n",
       "      <td>0.0</td>\n",
       "      <td>0.0</td>\n",
       "      <td>-0.0</td>\n",
       "      <td>0.0</td>\n",
       "    </tr>\n",
       "    <tr>\n",
       "      <th>4</th>\n",
       "      <td>-0.0</td>\n",
       "      <td>-0.0</td>\n",
       "      <td>0.0</td>\n",
       "      <td>0.0</td>\n",
       "      <td>1.0</td>\n",
       "      <td>0.0</td>\n",
       "      <td>0.0</td>\n",
       "      <td>0.0</td>\n",
       "    </tr>\n",
       "    <tr>\n",
       "      <th>5</th>\n",
       "      <td>-0.0</td>\n",
       "      <td>-0.0</td>\n",
       "      <td>0.0</td>\n",
       "      <td>0.0</td>\n",
       "      <td>0.0</td>\n",
       "      <td>1.0</td>\n",
       "      <td>0.0</td>\n",
       "      <td>0.0</td>\n",
       "    </tr>\n",
       "    <tr>\n",
       "      <th>6</th>\n",
       "      <td>-0.0</td>\n",
       "      <td>0.0</td>\n",
       "      <td>0.0</td>\n",
       "      <td>-0.0</td>\n",
       "      <td>0.0</td>\n",
       "      <td>0.0</td>\n",
       "      <td>1.0</td>\n",
       "      <td>-0.0</td>\n",
       "    </tr>\n",
       "    <tr>\n",
       "      <th>7</th>\n",
       "      <td>-0.0</td>\n",
       "      <td>0.0</td>\n",
       "      <td>0.0</td>\n",
       "      <td>0.0</td>\n",
       "      <td>0.0</td>\n",
       "      <td>0.0</td>\n",
       "      <td>-0.0</td>\n",
       "      <td>1.0</td>\n",
       "    </tr>\n",
       "  </tbody>\n",
       "</table>\n",
       "</div>"
      ],
      "text/plain": [
       "     0    1    2    3    4    5    6    7\n",
       "0  1.0  0.0 -0.0  0.0 -0.0 -0.0 -0.0 -0.0\n",
       "1  0.0  1.0 -0.0  0.0 -0.0 -0.0  0.0  0.0\n",
       "2 -0.0 -0.0  1.0 -0.0  0.0  0.0  0.0  0.0\n",
       "3  0.0  0.0 -0.0  1.0  0.0  0.0 -0.0  0.0\n",
       "4 -0.0 -0.0  0.0  0.0  1.0  0.0  0.0  0.0\n",
       "5 -0.0 -0.0  0.0  0.0  0.0  1.0  0.0  0.0\n",
       "6 -0.0  0.0  0.0 -0.0  0.0  0.0  1.0 -0.0\n",
       "7 -0.0  0.0  0.0  0.0  0.0  0.0 -0.0  1.0"
      ]
     },
     "execution_count": 193,
     "metadata": {},
     "output_type": "execute_result"
    }
   ],
   "source": [
    "np.round(corr_projection.corr(), 12)"
   ]
  },
  {
   "attachments": {},
   "cell_type": "markdown",
   "metadata": {},
   "source": [
    "#### **Get variance from projection**"
   ]
  },
  {
   "cell_type": "code",
   "execution_count": 194,
   "metadata": {},
   "outputs": [
    {
     "data": {
      "text/plain": [
       "0    6.967741\n",
       "1    0.827536\n",
       "2    0.084742\n",
       "3    0.041657\n",
       "4    0.028197\n",
       "5    0.013115\n",
       "6    0.017070\n",
       "7    0.019941\n",
       "dtype: float64"
      ]
     },
     "execution_count": 194,
     "metadata": {},
     "output_type": "execute_result"
    }
   ],
   "source": [
    "projection_var = np.var(corr_projection)\n",
    "projection_var"
   ]
  },
  {
   "attachments": {},
   "cell_type": "markdown",
   "metadata": {},
   "source": [
    "#### **Find all relative stds from every principal component**"
   ]
  },
  {
   "cell_type": "code",
   "execution_count": 195,
   "metadata": {},
   "outputs": [
    {
     "name": "stdout",
     "output_type": "stream",
     "text": [
      "0) 0.871\n",
      "1) 0.1034\n",
      "2) 0.0106\n",
      "3) 0.0052\n",
      "4) 0.0035\n",
      "5) 0.0016\n",
      "6) 0.0021\n",
      "7) 0.0025\n"
     ]
    }
   ],
   "source": [
    "for i, element in enumerate(np.round([variance/np.sum(np.var(corr_projection)) for variance in np.var(corr_projection)], 4)):\n",
    "    print(f\"{i}) {element}\")"
   ]
  },
  {
   "attachments": {},
   "cell_type": "markdown",
   "metadata": {},
   "source": [
    "#### **Find relative std of 2 needed principal components**"
   ]
  },
  {
   "cell_type": "code",
   "execution_count": 196,
   "metadata": {},
   "outputs": [
    {
     "name": "stdout",
     "output_type": "stream",
     "text": [
      "0.9744\n"
     ]
    }
   ],
   "source": [
    "N = 2\n",
    "print(np.round(np.sum(projection_var[0:N])/np.sum(projection_var), 4))"
   ]
  },
  {
   "cell_type": "code",
   "execution_count": 197,
   "metadata": {},
   "outputs": [
    {
     "data": {
      "text/plain": [
       "(2.8062601039660455, -2.561593621991735)"
      ]
     },
     "execution_count": 197,
     "metadata": {},
     "output_type": "execute_result"
    }
   ],
   "source": [
    "min_y_index = np.argmin(corr_projection.iloc[:, 1])\n",
    "corr_projection.iloc[min_y_index, 0], corr_projection.iloc[min_y_index, 1] "
   ]
  },
  {
   "attachments": {},
   "cell_type": "markdown",
   "metadata": {},
   "source": [
    "#### **Plot components**"
   ]
  },
  {
   "cell_type": "code",
   "execution_count": 198,
   "metadata": {},
   "outputs": [
    {
     "data": {
      "text/plain": [
       "<matplotlib.collections.PathCollection at 0x16848b14100>"
      ]
     },
     "execution_count": 198,
     "metadata": {},
     "output_type": "execute_result"
    },
    {
     "data": {
      "image/png": "[encoded data removed]",
      "text/plain": [
       "<Figure size 640x480 with 1 Axes>"
      ]
     },
     "metadata": {},
     "output_type": "display_data"
    }
   ],
   "source": [
    "plt.xlabel(\"0 variable\")\n",
    "plt.ylabel(\"1 variable\")\n",
    "plt.title(\"Scatter plot of two variables\")\n",
    "plt.grid()\n",
    "plt.scatter(corr_projection.iloc[:, 0], corr_projection.iloc[:, 1], c=\"magenta\")"
   ]
  },
  {
   "attachments": {},
   "cell_type": "markdown",
   "metadata": {},
   "source": [
    "# **Using PCA 'from box'**"
   ]
  },
  {
   "cell_type": "code",
   "execution_count": 199,
   "metadata": {},
   "outputs": [
    {
     "data": {
      "text/plain": [
       "<matplotlib.collections.PathCollection at 0x16848c2bac0>"
      ]
     },
     "execution_count": 199,
     "metadata": {},
     "output_type": "execute_result"
    },
    {
     "data": {
      "image/png": "[encoded data removed]",
      "text/plain": [
       "<Figure size 640x480 with 1 Axes>"
      ]
     },
     "metadata": {},
     "output_type": "display_data"
    }
   ],
   "source": [
    "from sklearn.decomposition import PCA\n",
    "\n",
    "pca = PCA(n_components = 2)\n",
    "\n",
    "new_scaler = StandardScaler()\n",
    "\n",
    "new_data = new_scaler.fit_transform(data)\n",
    "\n",
    "X_vis = pca.fit_transform(new_data)\n",
    "\n",
    "\n",
    "plt.title(\"Dependency between two main components projections\")\n",
    "plt.xlabel(\"Var0\")\n",
    "plt.ylabel(\"Var1\")\n",
    "plt.grid()\n",
    "plt.scatter(X_vis[:, 0], X_vis[:, 1])"
   ]
  }
 ],
 "metadata": {
  "kernelspec": {
   "display_name": "Python 3",
   "language": "python",
   "name": "python3"
  },
  "language_info": {
   "codemirror_mode": {
    "name": "ipython",
    "version": 3
   },
   "file_extension": ".py",
   "mimetype": "text/x-python",
   "name": "python",
   "nbconvert_exporter": "python",
   "pygments_lexer": "ipython3",
   "version": "3.10.8"
  },
  "orig_nbformat": 4,
  "vscode": {
   "interpreter": {
    "hash": "2431fdd4dd0bb23777a3f0bba89c7917910101b364a34c03798a64182ead43c6"
   }
  }
 },
 "nbformat": 4,
 "nbformat_minor": 2
}
